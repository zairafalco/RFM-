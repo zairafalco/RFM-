<!DOCTYPE HTML>
<html>

<head>
    <meta charset="utf-8">

    <title>Jupyter Notebook</title>
    <link id="favicon" rel="shortcut icon" type="image/x-icon" href="/static/base/images/favicon-notebook.ico?v=eb02bb6f6435d048eba1bf1bd3b3621f8c14f26518dbadd8efd4ee6ee2721caf2367bc0cbc27d2ee2c35bc3b035aad07c6d625422b9445bf301897f493d0edc5">
    <meta http-equiv="X-UA-Compatible" content="IE=edge" />
    <link rel="stylesheet" href="/static/components/jquery-ui/dist/themes/smoothness/jquery-ui.min.css?v=32f9dcde0cd9843f2b66d34c1c9928b59a5d7ef007ba7a6a6a790b3e78f7857a698444d7a716dfaf8fa834c3b3175efd258bbc07cfc4aabb86769b07e5f358c3" type="text/css" />
    <link rel="stylesheet" href="/static/components/jquery-typeahead/dist/jquery.typeahead.min.css?v=5edf53bf6bb9c3b1ddafd8594825a7e2ed621f19423e569c985162742f63911c09eba2c529f8fb47aebf27fafdfe287d563347f58c1126b278189a18871b6a9a" type="text/css" />
    <meta name="viewport" content="width=device-width, initial-scale=1.0">
    
    


<script type="text/javascript" src="/static/components/MathJax/MathJax.js?config=TeX-AMS-MML_HTMLorMML-full,Safe&delayStartupUntil=configured" charset="utf-8"></script>

<script type="text/javascript">
// MathJax disabled, set as null to distinguish from *missing* MathJax,
// where it will be undefined, and should prompt a dialog later.
window.mathjax_url = "/static/components/MathJax/MathJax.js";
</script>

<link rel="stylesheet" href="/static/components/bootstrap-tour/build/css/bootstrap-tour.min.css?v=95c93e52db61ab29625defe55361384ce6776a7d303b97da5a73fef5ddf8e391a6223599a0b58669476bd71645a4f0022df0517c88b0c05df80ba465e36f5417" type="text/css" />
<link rel="stylesheet" href="/static/components/codemirror/lib/codemirror.css?v=a545ad5e21a51420a7cb40234688eef087a5cf3798f64d7750291a8be0e9c760b8a1c9cbbbdcaa6470f2f385caa59e816f2640f609d29147f4762e27f69709e6">


    <link rel="stylesheet" href="/static/style/style.min.css?v=e1ab1c38b672063a6541baf468c83345cd0f509729783ec9b7ccb64073004f5f056110c82c28aefbf3dbf32e0e040f05b8f0420bc411b669ed3d4f07511812ca" type="text/css"/>
    

<link rel="stylesheet" href="/static/notebook/css/override.css?v=16733f6ba5f2224692fe4e654f3cbb2e3cae82f1df06ca53aa1cb88b147465f16c968c0898e2b0203a7ad3a469f82b959e26bb4b27b790f7f364c4336449b0aa" type="text/css" />
<link rel="stylesheet" href=""  id='kernel-css'                             type="text/css" />


    <link rel="stylesheet" href="/custom/custom.css" type="text/css" />
    <script src="/static/components/es6-promise/promise.min.js?v=bea335d74136a63ae1b5130f5ac9a50c6256a5f435e6e09fef599491a84d834a8b0f011ca3eaaca3b4ab6a2da2d3e1191567a2f171e60da1d10e5b9d52f84184" type="text/javascript" charset="utf-8"></script>
    <script src="/static/components/react/react.production.min.js?v=9a0aaf84a316c8bedd6c2ff7d5b5e0a13f8f84ec02442346cba0b842c6c81a6bf6176e64f3675c2ebf357cb5bb048e0b527bd39377c95681d22468da3d5de735" type="text/javascript"></script>
    <script src="/static/components/react/react-dom.production.min.js?v=6fc58c1c4736868ff84f57bd8b85f2bdb985993a9392718f3b4af4bfa10fb4efba2b4ddd68644bd2a8daf0619a3844944c9c43f8528364a1aa6fc01ec1b8ae84" type="text/javascript"></script>
    <script src="/static/components/create-react-class/index.js?v=894ad57246e682b4cfbe7cd5e408dcd6b38d06af4de4f3425991e2676fdc2ef1732cbd19903104198878ae77de12a1996de3e7da3a467fb226bdda8f4618faec" type="text/javascript"></script>
    <script src="/static/components/requirejs/require.js?v=d37b48bb2137faa0ab98157e240c084dd5b1b5e74911723aa1d1f04c928c2a03dedf922d049e4815f7e5a369faa2e6b6a1000aae958b7953b5cc60411154f593" type="text/javascript" charset="utf-8"></script>
    <script>
      require.config({
          
          urlArgs: "v=20221205095415",
          
          baseUrl: '/static/',
          paths: {
            'auth/js/main': 'auth/js/main.min',
            custom : '/custom',
            nbextensions : '/nbextensions',
            kernelspecs : '/kernelspecs',
            underscore : 'components/underscore/underscore-min',
            backbone : 'components/backbone/backbone-min',
            jed: 'components/jed/jed',
            jquery: 'components/jquery/jquery.min',
            json: 'components/requirejs-plugins/src/json',
            text: 'components/requirejs-text/text',
            bootstrap: 'components/bootstrap/dist/js/bootstrap.min',
            bootstraptour: 'components/bootstrap-tour/build/js/bootstrap-tour.min',
            'jquery-ui': 'components/jquery-ui/dist/jquery-ui.min',
            moment: 'components/moment/min/moment-with-locales',
            codemirror: 'components/codemirror',
            termjs: 'components/xterm.js/xterm',
            typeahead: 'components/jquery-typeahead/dist/jquery.typeahead.min',
          },
          map: { // for backward compatibility
              "*": {
                  "jqueryui": "jquery-ui",
              }
          },
          shim: {
            typeahead: {
              deps: ["jquery"],
              exports: "typeahead"
            },
            underscore: {
              exports: '_'
            },
            backbone: {
              deps: ["underscore", "jquery"],
              exports: "Backbone"
            },
            bootstrap: {
              deps: ["jquery"],
              exports: "bootstrap"
            },
            bootstraptour: {
              deps: ["bootstrap"],
              exports: "Tour"
            },
            "jquery-ui": {
              deps: ["jquery"],
              exports: "$"
            }
          },
          waitSeconds: 30,
      });

      require.config({
          map: {
              '*':{
                'contents': 'services/contents',
              }
          }
      });

      // error-catching custom.js shim.
      define("custom", function (require, exports, module) {
          try {
              var custom = require('custom/custom');
              console.debug('loaded custom.js');
              return custom;
          } catch (e) {
              console.error("error loading custom.js", e);
              return {};
          }
      })

      // error-catching custom-preload.js shim.
      define("custom-preload", function (require, exports, module) {
          try {
              var custom = require('custom/custom-preload');
              console.debug('loaded custom-preload.js');
              return custom;
          } catch (e) {
              console.error("error loading custom-preload.js", e);
              return {};
          }
      })

    document.nbjs_translations = {"domain": "nbjs", "locale_data": {"nbjs": {"": {"domain": "nbjs"}}}};
    document.documentElement.lang = navigator.language.toLowerCase();
    </script>

    
    

</head>

<body class="notebook_app "
 


  
    data-jupyter-api-token="fcf4741faa0c1f4e3d493b51cc0e33cf9cff808cd498cc29"
  
 
data-base-url="/"
data-ws-url=""
data-notebook-name="RFM.ipynb"
data-notebook-path="RFM.ipynb"

dir="ltr">

<noscript>
    <div id='noscript'>
      Jupyter Notebook requires JavaScript.<br>
      Please enable it to proceed. 
  </div>
</noscript>

<div id="header" role="navigation" aria-label="Top Menu">
  <div id="header-container" class="container">
  <div id="ipython_notebook" class="nav navbar-brand"><a href="/tree?token=fcf4741faa0c1f4e3d493b51cc0e33cf9cff808cd498cc29" title='dashboard'>
      <img src='/static/base/images/logo.png?v=a2a176ee3cee251ffddf5fa21fe8e43727a9e5f87a06f9c91ad7b776d9e9d3d5e0159c16cc188a3965e00375fb4bc336c16067c688f5040c0c2d4bfdb852a9e4' alt='Jupyter Notebook'/>
  </a></div>

  


<span id="save_widget" class="save_widget">
    <span id="notebook_name" class="filename"></span>
    <span class="checkpoint_status"></span>
    <span class="autosave_status"></span>
</span>


  

<span id="kernel_logo_widget">
  
  <img class="current_kernel_logo" alt="Current Kernel Logo" src="data:image/gif;base64,R0lGODlhAQABAIAAAAAAAP///yH5BAEAAAAALAAAAAABAAEAAAIBRAA7"/>
  
</span>


  
  
  
  

    <span id="login_widget">
      
        <button id="logout" class="btn btn-sm navbar-btn">Logout</button>
      
    </span>

  

  
  
  </div>
  <div class="header-bar"></div>

  
<div id="menubar-container" class="container">
<div id="menubar">
    <div id="menus" class="navbar navbar-default" role="navigation">
        <div class="container-fluid">
            <button type="button" class="btn btn-default navbar-btn navbar-toggle" data-toggle="collapse" data-target=".navbar-collapse">
              <i class="fa fa-bars"></i>
              <span class="navbar-text">Menu</span>
            </button>
            <p id="kernel_indicator" class="navbar-text indicator_area">
              <span class="kernel_indicator_name">Kernel</span>
              <i id="kernel_indicator_icon"></i>
            </p>
            <i id="readonly-indicator" class="navbar-text" title='This notebook is read-only'>
                <span class="fa-stack">
                    <i class="fa fa-save fa-stack-1x"></i>
                    <i class="fa fa-ban fa-stack-2x text-danger"></i>
                </span>
            </i>
            <i id="modal_indicator" class="navbar-text"></i>
            <span id="notification_area"></span>
            <div class="navbar-collapse collapse">
              <ul class="nav navbar-nav">
                <li class="dropdown"><a href="#" class="dropdown-toggle" id="filelink" data-toggle="dropdown" aria-haspopup="true" aria-controls="file_menu">File</a>
                    <ul id="file_menu" class="dropdown-menu" role="menu" aria-labelledby="filelink">
                        <li id="new_notebook" class="menu_focus_highlight dropdown dropdown-submenu" role="none">
                            <a href="#" role="menuitem" aria-haspopup="true" aria-expanded="false" class="dropdown-toggle" data-toggle="dropdown">New Notebook<span class="sr-only">Dropdown</span></a>
                            <ul class="dropdown-menu" id="menu-new-notebook-submenu" role="menu">
                            </ul>
                        </li>
                        <li id="open_notebook" role="none"
                            title="Opens a new window with the Dashboard view">
                            <a href="#" role="menuitem">Open...</a></li>
                        <!-- <hr/> -->
                        <li class="divider" role="none"></li>
                        <li id="copy_notebook" role="none"
                            title="Open a copy of this notebook's contents and start a new kernel">
                            <a href="#" role="menuitem">Make a Copy...</a></li>
                        <li id="save_notebook_as" role="none"
                            title="Save a copy of the notebook's contents and start a new kernel">
                            <a href="#" role="menuitem">Save as...</a></li>
                        <li id="rename_notebook" role="none"><a href="#" role="menuitem">Rename...</a></li>
                        <li id="save_checkpoint" role="none"><a href="#" role="menuitem">Save and Checkpoint</a></li>
                        <!-- <hr/> -->
                        <li class="divider" role="none"></li>
                        <li id="restore_checkpoint" class="menu_focus_highlight dropdown-submenu" role="none"><a href="#" role="menuitem" aria-haspopup="true" aria-expanded="false" class="dropdown-toggle" data-toggle="dropdown">Revert to Checkpoint<span class="sr-only">Dropdown</span></a>
                          <ul class="dropdown-menu">
                            <li><a href="#"></a></li>
                            <li><a href="#"></a></li>
                            <li><a href="#"></a></li>
                            <li><a href="#"></a></li>
                            <li><a href="#"></a></li>
                          </ul>
                        </li>
                        <li class="divider" role="none"></li>
                        <li id="print_preview" role="none"><a href="#" role="menuitem">Print Preview</a></li>
                        <li class="dropdown-submenu menu_focus_highlight" role="none"><a href="#" role="menuitem" aria-haspopup="true" aria-expanded="false" class="dropdown-toggle" data-toggle="dropdown">Download as<span class="sr-only">Dropdown</span></a>
                            <ul id="download_menu" class="dropdown-menu">
                                
                                <li id="download_asciidoc">
                                    <a href="#">AsciiDoc (.asciidoc)</a>
                                </li>
                                
                                <li id="download_html">
                                    <a href="#">HTML (.html)</a>
                                </li>
                                
                                <li id="download_latex">
                                    <a href="#">LaTeX (.tex)</a>
                                </li>
                                
                                <li id="download_markdown">
                                    <a href="#">Markdown (.md)</a>
                                </li>
                                
                                <li id="download_notebook">
                                    <a href="#">Notebook (.ipynb)</a>
                                </li>
                                
                                <li id="download_pdf">
                                    <a href="#">PDF via LaTeX (.pdf)</a>
                                </li>
                                
                                <li id="download_rst">
                                    <a href="#">reST (.rst)</a>
                                </li>
                                
                                <li id="download_script">
                                    <a href="#">Script ()</a>
                                </li>
                                
                                <li id="download_slides">
                                    <a href="#">Reveal.js slides (.slides.html)</a>
                                </li>
                                
                                <li id="download_webpdf">
                                    <a href="#">PDF via HTML (.html)</a>
                                </li>
                                
                            </ul>
                        </li>
                        <li class="dropdown-submenu hidden" role="none"><a href="#" role="menuitem">Deploy as</a>
                            <ul id="deploy_menu" class="dropdown-menu"></ul>
                        </li>
                        <li class="divider" role="none"></li>
                        <li id="trust_notebook" role="none"
                            title="Trust the output of this notebook">
                            <a href="#" role="menuitem">Trust Notebook</a></li>
                        <li class="divider" role="none"></li>
                        <li id="close_and_halt" role="none"
                            title="Shutdown this notebook's kernel, and close this window">
                            <a href="#" role="menuitem">Close and Halt</a></li>
                    </ul>
                </li>

                <li class="dropdown"><a href="#" class="dropdown-toggle" id="editlink" data-toggle="dropdown" aria-haspopup="true" aria-controls="edit_menu">Edit</a>
                    <ul id="edit_menu" class="dropdown-menu" role="menu" aria-labelledby="editlink">
                        <li id="cut_cell" role="none"><a href="#" role="menuitem">Cut Cells</a></li>
                        <li id="copy_cell" role="none"><a href="#" role="menuitem">Copy Cells</a></li>
                        <li id="paste_cell_above" class="disabled" role="none"><a href="#" role="menuitem" aria-disabled="true">Paste Cells Above</a></li>
                        <li id="paste_cell_below" class="disabled" role="none"><a href="#" role="menuitem" aria-disabled="true">Paste Cells Below</a></li>
                        <li id="paste_cell_replace" class="disabled" role="none"><a href="#" role="menuitem" aria-disabled="true">Paste Cells &amp; Replace</a></li>
                        <li id="delete_cell" role="none"><a href="#" role="menuitem">Delete Cells</a></li>
                        <li id="undelete_cell" class="disabled" role="none"><a href="#" role="menuitem" aria-disabled="true">Undo Delete Cells</a></li>
                        <li class="divider" role="none"></li>
                        <li id="split_cell" role="none"><a href="#" role="menuitem">Split Cell</a></li>
                        <li id="merge_cell_above" role="none"><a href="#" role="menuitem">Merge Cell Above</a></li>
                        <li id="merge_cell_below" role="none"><a href="#" role="menuitem">Merge Cell Below</a></li>
                        <li class="divider" role="none"></li>
                        <li id="move_cell_up" role="none"><a href="#" role="menuitem">Move Cell Up</a></li>
                        <li id="move_cell_down" role="none"><a href="#" role="menuitem">Move Cell Down</a></li>
                        <li class="divider" role="none"></li>
                        <li id="edit_nb_metadata" role="none"><a href="#" role="menuitem">Edit Notebook Metadata</a></li>
                        <li class="divider" role="none"></li>
                        <li id="find_and_replace" role="none"><a href="#" role="menuitem"> Find and Replace </a></li>
                        <li class="divider" role="none"></li>
                        <li id="cut_cell_attachments" role="none"><a href="#" role="menuitem">Cut Cell Attachments</a></li>
                        <li id="copy_cell_attachments" role="none"><a href="#" role="menuitem">Copy Cell Attachments</a></li>
                        <li id="paste_cell_attachments"  class="disabled" role="none"><a href="#" role="menuitem" aria-disabled="true">Paste Cell Attachments</a></li>
                        <li class="divider" role="none"></li>
                        <li id="insert_image" class="disabled" role="none"><a href="#" role="menuitem" aria-disabled="true">  Insert Image </a></li>
                    </ul>
                </li>
                <li class="dropdown"><a href="#" class="dropdown-toggle" id="viewlink" data-toggle="dropdown" aria-haspopup="true" aria-controls="view_menu">View</a>
                    <ul id="view_menu" class="dropdown-menu" role="menu" aria-labelledby="viewlink">
                        <li id="toggle_header" role="none"
                            title="Show/Hide the logo and notebook title (above menu bar)">
                            <a href="#" role="menuitem">Toggle Header</a>
                        </li>
                        <li id="toggle_toolbar" role="none"
                            title="Show/Hide the action icons (below menu bar)">
                            <a href="#" role="menuitem">Toggle Toolbar</a>
                        </li>
                        <li id="toggle_line_numbers" role="none"
                            title="Show/Hide line numbers in cells">
                            <a href="#" role="menuitem">Toggle Line Numbers</a>
                        </li>
                        <li id="menu-cell-toolbar" class="menu_focus_highlight dropdown-submenu" role="none">
                            <a href="#" role="menuitem" aria-haspopup="true" aria-expanded="false" class="dropdown-toggle" data-toggle="dropdown">Cell Toolbar</a>
                            <ul class="dropdown-menu" id="menu-cell-toolbar-submenu"></ul>
                        </li>
                    </ul>
                </li>
                <li class="dropdown"><a href="#" class="dropdown-toggle" id="insertlink" data-toggle="dropdown" aria-haspopup="true" aria-controls="insert_menu">Insert</a>
                    <ul id="insert_menu" class="dropdown-menu" role="menu" aria-labelledby="insertlink">
                        <li id="insert_cell_above" role="none"
                            title="Insert an empty Code cell above the currently active cell">
                            <a href="#" role="menuitem">Insert Cell Above</a></li>
                        <li id="insert_cell_below" role="none"
                            title="Insert an empty Code cell below the currently active cell">
                            <a href="#" role="menuitem">Insert Cell Below</a></li>
                    </ul>
                </li>
                <li class="dropdown"><a href="#" class="dropdown-toggle" id="celllink" data-toggle="dropdown" aria-haspopup="true" aria-controls="cell_menu">Cell</a>
                    <ul id="cell_menu" class="dropdown-menu" role="menu" aria-labelledby="celllink">
                        <li id="run_cell" role="none" title="Run this cell, and move cursor to the next one">
                            <a role="menuitem" href="#">Run Cells</a></li>
                        <li id="run_cell_select_below" role="none" title="Run this cell, select below">
                            <a href="#" role="menuitem">Run Cells and Select Below</a></li>
                        <li id="run_cell_insert_below" role="none" title="Run this cell, insert below">
                            <a href="#" role="menuitem">Run Cells and Insert Below</a></li>
                        <li id="run_all_cells" role="none" title="Run all cells in the notebook">
                            <a href="#" role="menuitem">Run All</a></li>
                        <li id="run_all_cells_above" role="none" title="Run all cells above (but not including) this cell">
                            <a href="#" role="menuitem">Run All Above</a></li>
                        <li id="run_all_cells_below" role="none" title="Run this cell and all cells below it">
                            <a href="#" role="menuitem">Run All Below</a></li>
                        <li class="divider" role="none"></li>
                        <li id="change_cell_type" class="menu_focus_highlight dropdown-submenu" role="none"
                            title="All cells in the notebook have a cell type. By default, new cells are created as 'Code' cells">
                            <a href="#" role="menuitem" aria-haspopup="true" aria-expanded="false" class="dropdown-toggle" data-toggle="dropdown">Cell Type</a>
                            <ul class="dropdown-menu" role="menu">
                              <li id="to_code" role="none"
                                  title="Contents will be sent to the kernel for execution, and output will display in the footer of cell">
                                  <a href="#">Code</a></li>
                              <li id="to_markdown"
                                  title="Contents will be rendered as HTML and serve as explanatory text">
                                  <a href="#">Markdown</a></li>
                              <li id="to_raw"
                                  title="Contents will pass through nbconvert unmodified">
                                  <a href="#">Raw NBConvert</a></li>
                            </ul>
                        </li>
                        <li class="divider" role="none"></li>
                        <li id="current_outputs" class="menu_focus_highlight dropdown-submenu" role="none"><a href="#" role="menuitem" aria-haspopup="true" aria-expanded="false" class="dropdown-toggle" data-toggle="dropdown">Current Outputs</a>
                            <ul class="dropdown-menu" role="menu">
                                <li id="toggle_current_output" role="none"
                                    title="Hide/Show the output of the current cell">
                                    <a href="#">Toggle</a>
                                </li>
                                <li id="toggle_current_output_scroll"
                                    title="Scroll the output of the current cell">
                                    <a href="#">Toggle Scrolling</a>
                                </li>
                                <li id="clear_current_output"
                                    title="Clear the output of the current cell">
                                    <a href="#">Clear</a>
                                </li>
                            </ul>
                        </li>
                        <li id="all_outputs" class="menu_focus_highlight dropdown-submenu" role="none"><a href="#" role="menuitem" aria-haspopup="true" aria-expanded="false" class="dropdown-toggle" data-toggle="dropdown">All Output</a>
                            <ul class="dropdown-menu" role="menu">
                                <li id="toggle_all_output" role="none"
                                    title="Hide/Show the output of all cells">
                                    <a href="#">Toggle</a>
                                </li>
                                <li id="toggle_all_output_scroll"
                                    title="Scroll the output of all cells">
                                    <a href="#">Toggle Scrolling</a>
                                </li>
                                <li id="clear_all_output"
                                    title="Clear the output of all cells">
                                    <a href="#">Clear</a>
                                </li>
                            </ul>
                        </li>
                    </ul>
                </li>
                <li class="dropdown"><a href="#" class="dropdown-toggle" data-toggle="dropdown" id="kernellink">Kernel</a>
                    <ul id="kernel_menu" class="dropdown-menu" aria-labelledby="kernellink">
                        <li id="int_kernel"
                            title="Send Keyboard Interrupt (CTRL-C) to the Kernel">
                            <a href="#">Interrupt</a>
                        </li>
                        <li id="restart_kernel"
                            title="Restart the Kernel">
                            <a href="#">Restart</a>
                        </li>
                        <li id="restart_clear_output"
                            title="Restart the Kernel and clear all output">
                            <a href="#">Restart &amp; Clear Output</a>
                        </li>
                        <li id="restart_run_all"
                            title="Restart the Kernel and re-run the notebook">
                            <a href="#">Restart &amp; Run All</a>
                        </li>
                        <li id="reconnect_kernel"
                            title="Reconnect to the Kernel">
                            <a href="#">Reconnect</a>
                        </li>
                        <li id="shutdown_kernel"
                            title="Shutdown the Kernel">
                            <a href="#">Shutdown</a>
                        </li>
                        <li class="divider" role="none"></li>
                        <li id="menu-change-kernel" class="menu_focus_highlight dropdown-submenu" role="menuitem">
                            <a href="#" role="menuitem" aria-haspopup="true" aria-expanded="false" class="dropdown-toggle" data-toggle="dropdown">Change kernel</a>
                            <ul class="dropdown-menu" id="menu-change-kernel-submenu"></ul>
                        </li>
                    </ul>
                </li>
                <li class="dropdown"><a href="#" class="dropdown-toggle" data-toggle="dropdown">Help</a>
                    <ul  id="help_menu" class="dropdown-menu">
                        
                        <li id="notebook_tour" title="A quick tour of the notebook user interface"><a href="#">User Interface Tour</a></li>
                        <li id="keyboard_shortcuts" title="Opens a tooltip with all keyboard shortcuts"><a href="#">Keyboard Shortcuts</a></li>
                        <li id="edit_keyboard_shortcuts" title="Opens a dialog allowing you to edit Keyboard shortcuts"><a href="#">Edit Keyboard Shortcuts</a></li>
                        <li class="divider"></li>
                        

						
                        
                            
                                <li><a rel="noreferrer" href="http://nbviewer.jupyter.org/github/ipython/ipython/blob/3.x/examples/Notebook/Index.ipynb" target="_blank" title="Opens in a new window">
                                
                                    <i class="fa fa-external-link menu-icon pull-right"></i>
                                

                                Notebook Help
                                </a></li>
                            
                                <li><a rel="noreferrer" href="https://help.github.com/articles/markdown-basics/" target="_blank" title="Opens in a new window">
                                
                                    <i class="fa fa-external-link menu-icon pull-right"></i>
                                

                                Markdown
                                </a></li>
                            
                            
                        
                        <li class="divider"></li>
                        <li title="About Jupyter Notebook"><a id="notebook_about" href="#">About</a></li>
                        
                    </ul>
                </li>
              </ul>
            </div>
        </div>
    </div>
</div>

<div id="maintoolbar" class="navbar">
  <div class="toolbar-inner navbar-inner navbar-nobg">
    <div id="maintoolbar-container" class="container"></div>
  </div>
</div>
</div>

<div class="lower-header-bar"></div>

</div>

<div id="site">


<div id="ipython-main-app">
    <div id="notebook_panel">
        <div id="notebook"></div>
        <div id='tooltip' class='ipython_tooltip' style='display:none'></div>
    </div>
</div>



</div>



<div id="pager">
    <div id="pager-contents">
        <div id="pager-container" class="container"></div>
    </div>
    <div id='pager-button-area'></div>
</div>






<script type="text/javascript">
    sys_info = {"notebook_version": "6.5.2", "notebook_path": "/home/zairafalco/anaconda3/lib/python3.9/site-packages/notebook", "commit_source": "", "commit_hash": "", "sys_version": "3.9.15 (main, Nov 24 2022, 14:31:59) \n[GCC 11.2.0]", "sys_executable": "/home/zairafalco/anaconda3/bin/python", "sys_platform": "linux", "platform": "Linux-5.15.0-56-generic-x86_64-with-glibc2.35", "os_name": "posix", "default_encoding": "utf-8"};
</script>

<script src="/static/components/text-encoding/lib/encoding.js?v=737ac6f9f978afb6348b5914877e7d7136de7465cd4cdf389bad9a6b3ad5ceffbfb23febc75c23378967d7d36f98f5388208e8eb78c80f2bf47e8f8c000481ad" charset="utf-8"></script>

<script src="/static/notebook/js/main.min.js?v=5d664a98b149be4b10965f3e752be463eb21021100eee38d351219939750190c69412864b1a9ff459ca2735a5cc9a4c063c86c50a6495ec81ed2cb8ec835e179" type="text/javascript" charset="utf-8"></script>



<script type='text/javascript'>
  function _remove_token_from_url() {
    if (window.location.search.length <= 1) {
      return;
    }
    var search_parameters = window.location.search.slice(1).split('&');
    for (var i = 0; i < search_parameters.length; i++) {
      if (search_parameters[i].split('=')[0] === 'token') {
        // remote token from search parameters
        search_parameters.splice(i, 1);
        var new_search = '';
        if (search_parameters.length) {
          new_search = '?' + search_parameters.join('&');
        }
        var new_url = window.location.origin + 
                      window.location.pathname + 
                      new_search + 
                      window.location.hash;
        window.history.replaceState({}, "", new_url);
        return;
      }
    }
  }
  _remove_token_from_url();
</script>
</body>

</html>GOAJI57jlHXpUQY2rt3Lz799FNs2LABZ511FgDg//7v/zBx4kTs378fgwcPjnmuQqFAfn5+vJpKRESUMvy2VvjM9fA2HoXUmAt5Tgmk+iyIRClz46hHpEQYWr9+PQwGQygIAcCECRNgMBiwbt26DsPQypUrkZubC6PRiMmTJ+Pxxx9Hbm5uzOM9Hg88nu8WyLJarT3zIoiIiJKIr60R9e/8Hr6W46EysVIL0/W/gTyvHCKRKIGti6+UiH719fVRA0xubi7q6+tjnjd79my89dZb+OKLL/Dss89i06ZNmDZtWljY+b4nn3wyNC7JYDCguLi4R14DERFRsgi4HWhe9vewIAQAQbcd9e88joCtNUEtS4yEhqFHH300YoDz9x+bN28GgKgJVRCEDpPr1VdfjQsvvBAjRozA3Llz8cknn+DAgQNYunRpzHMefvhhWCyW0KOmJvaiWURERKko6LTCVbUtal3A0Qa/pTG+DUqwhN4mu/POO3HNNdd0eExZWRl27NiBhoaGiLqmpibk5eV1+nomkwmlpaWorKyMeYxCoYBCwYWwiIiob/DbzfA1H4fryA5ItBlQ9xuDYDDQ4TkBpy1OrUsOCQ1D2dnZyM7OPuVxEydOhMViwcaNGzF+/HgAwNdffw2LxYJJkyZ1+notLS2oqamByWTqdpuJiIhShd/ajPp3n4S38UiorEUkRu6ld0M99Gw4966Nep4sM72+J1NizNDQoUMxa9YsLFiwABs2bMCGDRuwYMECXHTRRWGDp4cMGYIlS5YAAOx2O+6//36sX78eR44cwcqVKzF37lxkZ2fjsssuS9RLISIiioug3wvzuvfDghAAQAii8YNFME6YG/U89cAzIdEae719ySQlwhAAvPXWWxg5ciRmzJiBGTNmYNSoUXjjjTfCjtm/fz8slvZdgCUSCXbu3IlLLrkEgwYNwvz58zFo0CCsX78eOp0uES+BiIgobgIOC+zbv4xeKQThqTuEnMvuhVitBwCIpHLox1+E7Nk/gkSVXt+TKTG1HgAyMzPx5ptvdniMIAih/1apVPjss896u1lERETJKRiE4PfGrA44LNBXXABV0RAEfW6IpDJINBkQS2VxbGRySJkwRERERJ0nkishzy2Ft/Fo1HpV2SiIxBJI9VlxblnySZnbZERERNR5Uo0BWTNuBhC5BI3cNACyTO7OcALDEBERUR+lMA2A6YePQZ5XBgAQyZTQj78I+Vc+AKk2I7GNSyK8TUZERNRHieVKqEqHw3TtrxH0eSASiyFWG9JyXFBHGIaIiIj6OInGAEmiG5HEeJuMiIiI0hrDEBEREaU1hiEiIiJKawxDRERElNYYhoiIiCitMQwRERFRWmMYIiIiorTGMERERERpjWGIiIiI0hrDEBEREaU1hiEiIiJKawxDRERElNYYhoiIiCitMQwRERFRWmMYIiIiorTGMERERERpjWGIiIiI0hrDEBEREaU1hiEiIiJKawxDRERElNYYhoiIiCitMQwRERFRWmMYIiIiorTGMERERERpjWGIiIiI0hrDEBEREaU1hiEiIiJKawxDRERElNYYhoiIiCitMQwRERFRWmMYIiIiorTGMERERERpjWGIiIiI0lrKhKHHH38ckyZNglqthtFo7NQ5giDg0UcfRUFBAVQqFaZMmYLdu3f3bkOJiIgopaRMGPJ6vbjqqqtw++23d/qcP/7xj1i4cCGee+45bNq0Cfn5+bjgggtgs9l6saVERESUSlImDD322GO45557MHLkyE4dLwgCFi1ahEceeQSXX345RowYgddeew1OpxNvv/12L7eWiIiIUkXKhKGuqqqqQn19PWbMmBEqUygUmDx5MtatWxfzPI/HA6vVGvYgIiKivqvPhqH6+noAQF5eXlh5Xl5eqC6aJ598EgaDIfQoLi7u1XYSERFRYiU0DD366KMQiUQdPjZv3nxa1xCJRGE/C4IQUXayhx9+GBaLJfSoqak5resTERFRcpMm8uJ33nknrrnmmg6PKSsr69Zz5+fnA2jvITKZTKHyxsbGiN6ikykUCigUim5dk4iIiFJPQsNQdnY2srOze+W5y8vLkZ+fjxUrVqCiogJA+4y0VatW4amnnuqVaxIREVHqSZkxQ9XV1di2bRuqq6sRCASwbds2bNu2DXa7PXTMkCFDsGTJEgDtt8fuvvtuPPHEE1iyZAl27dqFG2+8EWq1Gtddd12iXgYRERElmYT2DHXFr3/9a7z22muhn0/09nz55ZeYMmUKAGD//v2wWCyhYx544AG4XC7ccccdMJvNOOuss7B8+XLodLq4tp2IiIiSl0gQBCHRjUhmVqsVBoMBFosFer0+0c0hIiKiTujK93fK3CYjIiIi6g0MQ0RERJTWGIaIiIgorTEMERERUVpjGCIiIqK0xjBEREREaY1hiIiIiNIawxARERGlNYYhIiIiSmsMQ0RERJTWGIaIiIgorTEMERERUVpjGCIiIqK0xjBEREREaY1hiIiIiNIawxARERGlNYYhIiIiSmsMQ0RERJTWGIaIiIgorTEMERERUVpjGCIiIqK0xjBEREREaY1hiIiIiNKaNNENIEoUb8CHVmcbdjbsQ7OzFSPyBqNQn49MlTHRTSMiojhiGKK05A34sLNhH5756kUEhCAAYMneT1Goy8cjk3+KbE1mgltIRETxwttklJbaXBY8s/bvoSB0wnFbPd7Z+RE8fk+CWkZERPHGMERp6UDLYQSCgah1a2s2w+K2x7lFRESUKAxDlJYsblvMukAwgIDgP+Vz+AJ+2DwO9iIREaU4jhmitDQ4u3/MunxtDlRSZcx6f8CPRmcLPqtchX3Nh5CjzsDFQ2agUJ8PjVzdG80lIqJexDBEaSlHk4VhOQOxp6kyou7Gih/AqDLEPLeqrQaPfrEQvmB771GVuRobj2/HjRVXYVq/SVB2EKSIiCj58DYZpSWDUoe7Jt6MS4bMgFKqAAAUGwrwy8l3YUhO7F4ji9uKFza+EQpCJ3t92+IOb78REVFyYs8Qpa1MlRFXj5iLmQMnIxgMQiGVw6DUd3iOzevAMWtd1LqgEMTRtuPI0+b0RnOJiKiXMAxRWpNKpMhWd2FNIaH32kJERInB22REXaCVa1Coy49aJxaJUWIsjHOLiIjodDEMEXWBUaXHbePnQSqO7FS9ftSlMCp0CWgVERGdDt4mI+qifhkleHrmI1i6/wscaDmMbHUGLhk6E8UGE5QyziQjIko1DENEXSSTSFGoz8eNZ1wFl88NuUQOlUyR6GYREVE3MQwRdZNcIoNcIkt0M4iI6DSlzJihxx9/HJMmTYJarYbRaOzUOTfeeCNEIlHYY8KECb3bUCIiIkopKROGvF4vrrrqKtx+++1dOm/WrFmoq6sLPZYtW9ZLLSQiIqJUlDK3yR577DEAwKuvvtql8xQKBfLzo0+FJiIiIkqZnqHuWrlyJXJzczFo0CAsWLAAjY2NHR7v8XhgtVrDHkRERNR39ekwNHv2bLz11lv44osv8Oyzz2LTpk2YNm0aPB5PzHOefPJJGAyG0KO4uDiOLSYiIqJ4S2gYevTRRyMGOH//sXnz5m4//9VXX40LL7wQI0aMwNy5c/HJJ5/gwIEDWLp0acxzHn74YVgsltCjpqam29cnIiKi5JfQMUN33nknrrnmmg6PKSsr67HrmUwmlJaWorKyMuYxCoUCCgXXjCEiIkoXCQ1D2dnZyM7Ojtv1WlpaUFNTA5PJFLdrEhERUXJLmTFD1dXV2LZtG6qrqxEIBLBt2zZs27YNdrs9dMyQIUOwZMkSAIDdbsf999+P9evX48iRI1i5ciXmzp2L7OxsXHbZZYl6GURERJRkUmZq/a9//Wu89tproZ8rKioAAF9++SWmTJkCANi/fz8sFgsAQCKRYOfOnXj99dfR1tYGk8mEqVOn4t1334VOx800iYiIqJ1IEAQh0Y1IZlarFQaDARaLBXq9PtHNISIiok7oyvd3yvQMEfWGoBBEq6sNDfZmWD12FOrzYFQaoFdoE900IiKKE4YhSlvBYBCH26rx5KrnYPM6QuVnmEbgx2f+EBkqQwJbR0RE8ZIyA6iJelqLy4zfrfxzWBACgG/qduGjfSvgC/gS1DIiIoonhiFKW0fajsHlc0et+/zQGrS5bXFuERERJQJvk1HaarQ3x6zzBLzwBXunZ6jF2YbD5qPYdGw7MlQGnFN6JrLUGVDLVL1yPSIi6hjDEKWt8oySmHVGpR4KibzHr9nkaMXvV/4ZdfbvNgxesvdT3DL2GpxXehZUMmWPX5OIiDrG22SUtky6HJh0eVHrrhl5MTJVxh69ntfvxZI9n4QFoRNe3vIOzK62Hr0eERF1DsMQpa0MlRGPTP4pKvKHQwQRAEAjU+Omih/gzMLREIlEPXo9q9eOVUc2xKzfUrurR69HRESdw9tklLL8AT/MbguqLbWwexwoyyhChsrYpTWCcjVZ+NmkW2B12+ENeKGWqZChMkAilvR4ewVBgC/oj1lv9zli1hERUe9hGKKU5Av4sbepEk9/9SI8AW+ofFzhKCwYe12X1ghSy1RxGbyskioxKKsfDrQcjlpfYRrR620gIqJIvE1GKanVZcYf1jwfFoQAYPPxHfj80FcIBAOhMm/Ah3p7Ez4/9BX+s2sp9jRWwuyyxLvJ0Co0uLHiKkhEkf/bDc0ZiHxtTtzbRERE7BmiFLWzfh/8MW45LTvwBab1m4QsdQa8AR+21+/BwrUvISAEAQD/2Q2UZxTjgXNuR5Y6I57NRomxEE9c8CDe2v4Bdjfuh0auwZyBUzG130QYldz7jogoERiGKCU1OGKvEeTwOREItgefFqc5LAidUGWuwft7PsH8iqsgl8iiPo/FbYXH74VYLIZBoYdMcvr/u8glMpRnlOCeSbfC7fdABBGMSj3EYnbSEhElCsMQpaShOQPx4b7lUesKdflQSGXwfdsr9P0gdMLKIxtw2dBZyNZkhpW7fG5UtlThtW3vocZSC6VUgQv6n4sLB01HptrYI+3XyNXQyNU98lxERHR6GIYoJZUaC5GjyUKToyWi7odjLodBqUeryxK1/gRfwAe/EIgo3998CE+sfi70s9vvwcf7P0dlSxXunfQjGFXJdTvL4XGi1d2G7fV7AQCj84ciQ2mAVqFJcMuIiFIDwxClpCx1Bn495W688s272Fq3GwIEZKqMuGHMFRiS3R8AUG9rRL8OVpku1OdDKVWElbW5LHhl63+iHr+v+RCanC1JFYasHjuW7PkUSw/8L6z8wkHTcNnQ2dArO7/MABFRumIYopSVp83GXRNuhtVrhz/gD60RdGKxRH/QD6fPhfKMElSZqyPOv2H0FRGDll1+D+psDTGvubfpIAZmlffsCzkNR8w1EUEIAJYe+AJjTCMwOn9oAlpFRJRaOGqTOkUQBLQ629DkaEWby5ro5oSo5Srka3NQZDAhU20MWzU6X5uDf+38CD8YfiGmlk8KDZQu0ptw14SbUWIoiHg+qVjS4YKLRqWu519EN7l8bny0b0XM+o/3LYfL54pji4iIUhN7huiULG4r1tV8gyV7PkGb2wqTNhfXjb4Uw3MGJfW4FINSjyuGzcYz617C+MLRuH38DZCIxGhytiJLZURmlGn1eoUO55aMx8oj6yPqJGIJBmcPiEfTO8Uf9MPqscWst3js8Acjx0QREVE49gxRh5xeF/6zayle+eZdtLnbe4Tq7I14du1L2FDzTdjihslGIZVjStlE/HLyXbB7nXhnx4dYX70FI3OHoF9mSdS9xzwBD2YPmooivSmsXCwS475JP0JmF1a27m1qqQqj84fFrB+TPwxqae+vrE1ElOrYM0QdsnhsWHFoTdS6t3Z8gDGm4RFT05OJRqHG8NxBKM8ohtfvg1KqgFKmiHpsIBjA2qOb8e/d/8UNY66AWCTG4dZq6BU6DMouR5HOBFmMNYkSQSKRYHr/c7D80Gq4fO6wOpVUien9z4FE0vN7rBER9TUMQ9ShBnsTBAhR6xw+J+xeR1KHoRO+v/+Y0+uCxWNDo70ZSpmyfSVqQcB/di+Fw+vECxvfgF6hQ6E+D06fC+/u+giPn/8AMtTJ0zMEtG80+/vpP8drW9/Djob2qfWj8oZifsWVyNVkJbh1RESpgWGIOqSSKTusl4rj21MSCAbgCfggF0sh7eaK0Ba3FYv3fILPKleFgp5OrsEvJv8Udu93O8dbPTZYm74bk1PdVptUM8mA9tt3xYYC3DPpVji8TgBc0JGIqKsYhqhDWaoMaOWasJBwQnlGSdzWsfEF/GhytODzQ1/hkPkIivQmzBo4BbmaLCik0W97RSMIAjYe24ZPK1eGldu8DjQ7zZCKpTH3PMvWxHcfs65gACIi6j4OoKYOZaqMeOCc2yL27zIodLhrwk3QKzoOQw6vE/W2JtRaG2Bxd29KviAIONByGPd99jv898Dn2Nt0ECsOrcH9n/0eO+r3wR+IHl6iaXNb8N6eZVHrNh/fjnNKzoxap5VrUKjL71b7iYgoubFniDokFosxIKscz876NXY27MMxSy0GZffHoKzyU44VqrU14J9b3g2NZSnU52PB2OvQP7MUCqm8020wuyz464ZXImauCYKA5za+imdn/qrT45YCwSDMLkvUurXVm/Ho1HvQ7GzBrsYDoXK9QodHJt8Z9x3uiYgoPhiG6JSkYgnytNnI057T6XOaHC349f+eDVsH57i1Ho+t/BP+cMFDKO9gm4zvs3rsaHW1Ra1z+dxodbd1OgxJJVKYdHlRV5n2B/1ocZpx98Rb0eqyoNZWD6PSgDxtNjJVxqhT8YmIKPXxNhn1im31e6IuCCgIAt7Z8REc3siVkVucbdhWtxtvbl+CzypXod7WCG/AF3M22wlBoeP6kxmVelw/6tKodTqFFgOyyqFX6lCWUYRJJeMwLHcgstQZDEJERH0Ye4aoxwWCAWyr2x2z/kBLFTx+DzTy76a6Nzpa8PuVf0a9vSlUJhGJ8fNzbkepsRA6hRY2jz3iueQSGbJUxi61b1juQCwYex3e2rEEzm+3qygzFuGuCTcjJwWWCSAiop7FMEQ9TiwSI6eDNW4MSh3E4u86JV0+N97a9n5YEAKAgBDEM2v/jj/N/g1+PO56PLv2pYheohsrrorYbPVUtHINpvWbhArTcNi8DsjEUugVWuiTaN8xIiKKH4Yh6nEikQjTys/GsgNfRK2/dOjMsABj89jx9fFtUY/1B/041HoUY00j8MQFD2Lx7mWottQiX5uNK4dfiGJDQbdWhZaIJcjWZKbEgpFERNS7GIaoV+RoMnH7+Bvw901vIigEQ+WTyyZgTP7wsGP9wUDYMd9n89ihkCnQP7MUP51wE9x+DxQSOdTyyH23gkIQrc421NkbYXZZUGwoQKbKCAN7fYiIKAaGIeoVKpkSk4rOwLCcAahsqYLb78Xg7H7IUBoidrpXyZTI1WSj0dEc9bkGZfcLOzbWqthBIYgqcw1+v+ovodWYAWBYzkDcNeGmqLvUExERMQxRr1HIFMiT5SBPm9PhcRkqA2464wd4as3zEXWj8oYhs5MDpFudbfjdyj+HBkWfsKepEv/evRQ3VfygS+sbdZXL54bZ1YYttTth8zpQkT8cJl0ejKqujWkiIqL4YhiipDA0ZwB+OfkuvLbtPdRYaqGWqTBr4FTMGHBup29x1VhrI4LQCauPfI3Lh85GrrZ3Ni91+VxYe3QzXtrydqjsg72fYVBWP9w7aQEy1cZeuS4REZ0+hiFKCmqZCqPyh+LXU+6GJ+CFRCSGUamHRCzp9HM0O8wx6/xBP3xBX080NaoWlyUsCJ1woOUwPj/0Fa4YPrtLr4WIiOKHiy5SUjEodcjVZCFLndHl8FBqLIxZp1fooOzChq5dtb56S8y6Tw5+iTZ35AKURESUHBiGqM/I1WSjzFgcte7qEXORoTKEfra4bWi0t6DZ2dqljV5jMbuj73cGAE6vCwJiz5YjIqLESokwdOTIEdxyyy0oLy+HSqVC//798Zvf/AZer7fD8wRBwKOPPoqCggKoVCpMmTIFu3fHXhmZUptRpccD59yGiUVnQCxq/2hr5RrccsY1OKu4AmKRGC6fGzsb9uG3KxfhzqW/xH2f/A7v7vo45t5nnXVm4aiYdUNzB0IljT4DjoiIEi8lxgzt27cPwWAQf//73zFgwADs2rULCxYsgMPhwDPPPBPzvD/+8Y9YuHAhXn31VQwaNAi///3vccEFF2D//v3Q6bjuTF+UrcnEbePn4TrPpfAGfFBJlchQGUK33PY3H8ITq58LHe/yu/HhvuU40FKFeyfdCkMXV7M+odRQhCK9CcesdWHlYpEY80ZfDo1c3f0XRUREvUokCF3Y5TKJPP3003jhhRdw+PDhqPWCIKCgoAB33303HnzwQQCAx+NBXl4ennrqKfz4xz/u1HWsVisMBgMsFgv0ek6RTmVmlwWPfrEQdfbGqPVPnP8gBmSVdfv5mx2t+GDfZ1hZtR7egA+DsvrhxoqrUGIshLwbq2QTEVH3deX7OyV6hqKxWCzIzIy9lUJVVRXq6+sxY8aMUJlCocDkyZOxbt26mGHI4/HA4/GEfrZarT3XaEoot98TMwgBwL7mQ6cVhrI1mbhhzJW4dOhMCIIApVQJ3fcWmOwMl88Np88FEUQwKHWchUZE1MtSMgwdOnQIf/3rX/Hss8/GPKa+vh4AkJeXF1ael5eHo0ePxjzvySefxGOPPdYzDaW4CwQDsHrsEKF9BtnJG8JKRBJIRGIEYmz9YVCc/q1TuUSGbHX39jsLBAOoszXi37s+xjd1u6CUKjGj/7mY3v8cZHH1bCKiXpPQAdSPPvooRCJRh4/NmzeHnVNbW4tZs2bhqquuwq233nrKa4hEorCfBUGIKDvZww8/DIvFEnrU1NR078VR3DU5WrF49yf41f+ewa++eBYf7P0Mzc7WUL1BqcXZJWdGPVciloRt+5EIdbZGPLTiSWw4thXegA9Wjw3v7VmGp9Y8f9oDvImIKLaE9gzdeeeduOaaazo8pqysLPTftbW1mDp1KiZOnIiXXnqpw/Py8/MBtPcQmUymUHljY2NEb9HJFAoFFIreW4+GekezoxWPfvEsmk4KP+/s+girjmzAr6bejWx1BhRSBa4ZeTEOt1bjmO27gc5ikRj3TVoQNvU+3lw+N97d+RG8gciFIY+0HcMR87FOb0tCRERdk9AwlJ2djezs7E4de/z4cUydOhVjx47FK6+8Enb7I5ry8nLk5+djxYoVqKioAAB4vV6sWrUKTz311Gm3nZJHUAhiXc2WsCB0Qp29Ed/U7sSMAecBaB/X88upd+GYpQ67G/cjS5WJUflDkak2JnSQs9Pnwtb62Ms+rK3ehDMKRsSxRURE6SMlxgzV1tZiypQpKCkpwTPPPIOmpqZQ3YkeIAAYMmQInnzySVx22WUQiUS4++678cQTT2DgwIEYOHAgnnjiCajValx33XWJeBnUS+weB9Yc/Tpm/aojG3B28ThoFO3T2zNVRmSqjBiVPzReTTwlEURQSBVRe4aA9vWSiIiod6REGFq+fDkOHjyIgwcPoqioKKzu5JUB9u/fD4vlu5WAH3jgAbhcLtxxxx0wm80466yzsHz5cq4x1MeIRGJIxbE/ylKxFOIOxoklA4NShxn9z8PiPcui1k8pnxDnFhERpY+UXWcoXrjOUGpYWbUez298PWrdvZMWYELxGXFuUde1OM14as3zONJ2LKz88mGzcNHg89k7RETUBWmxzhDRyUblD8WgrH440BK+COeI3MEYnN0/Qa3qmix1Bh467yc4Yj6GtdWboJVrMKV8AnI0WQxCRES9iD1Dp8CeodTR6mrDodaj+PzQGoggwowB56E8oyShs8SIiCgx2DNEaSlTZURmoRGj8oZCDBFkUm6BQUREp8YwRH2OQipPdBOIiCiFJHQFaiIiIqJEYxgiIiKitMYwRERERGmNYYiIiIjSGsMQERERpTWGISIiIkprDENERESU1hiGiIiIKK0xDBEREVFaYxgiIiKitMbtOE7hxD62Vqs1wS0hIiKizjrxvd2Z/egZhk7BZrMBAIqLixPcEiIiIuoqm80Gg8HQ4TEioTORKY0Fg0HU1tZCp9NBJBL1+vWsViuKi4tRU1MDvV7f69dLJXxvYuN7Ex3fl9j43sTG9ya6VHtfBEGAzWZDQUEBxOKORwWxZ+gUxGIxioqK4n5dvV6fEh+2ROB7Exvfm+j4vsTG9yY2vjfRpdL7cqoeoRM4gJqIiIjSGsMQERERpTWGoSSjUCjwm9/8BgqFItFNSTp8b2LjexMd35fY+N7Exvcmur78vnAANREREaU19gwRERFRWmMYIiIiorTGMERERERpjWGIiIiI0hrDUBJ4/PHHMWnSJKjVahiNxk6dc+ONN0IkEoU9JkyY0LsNTYDuvDeCIODRRx9FQUEBVCoVpkyZgt27d/duQ+PMbDZj3rx5MBgMMBgMmDdvHtra2jo8p69+Zp5//nmUl5dDqVRi7NixWLNmTYfHr1q1CmPHjoVSqUS/fv3w4osvxqml8deV92blypURnw+RSIR9+/bFscW9b/Xq1Zg7dy4KCgogEonwwQcfnPKcdPnMdPW96UufGYahJOD1enHVVVfh9ttv79J5s2bNQl1dXeixbNmyXmph4nTnvfnjH/+IhQsX4rnnnsOmTZuQn5+PCy64ILTPXF9w3XXXYdu2bfj000/x6aefYtu2bZg3b94pz+trn5l3330Xd999Nx555BFs3boV5557LmbPno3q6uqox1dVVWHOnDk499xzsXXrVvziF7/AXXfdhcWLF8e55b2vq+/NCfv37w/7jAwcODBOLY4Ph8OB0aNH47nnnuvU8en0menqe3NCn/jMCJQ0XnnlFcFgMHTq2Pnz5wuXXHJJr7YnmXT2vQkGg0J+fr7whz/8IVTmdrsFg8EgvPjii73YwvjZs2ePAEDYsGFDqGz9+vUCAGHfvn0xz+uLn5nx48cLt912W1jZkCFDhIceeijq8Q888IAwZMiQsLIf//jHwoQJE3qtjYnS1ffmyy+/FAAIZrM5Dq1LDgCEJUuWdHhMOn1mTtaZ96YvfWbYM5TCVq5cidzcXAwaNAgLFixAY2NjopuUcFVVVaivr8eMGTNCZQqFApMnT8a6desS2LKes379ehgMBpx11lmhsgkTJsBgMJzyNfalz4zX68WWLVvC/q0BYMaMGTHfh/Xr10ccP3PmTGzevBk+n6/X2hpv3XlvTqioqIDJZML06dPx5Zdf9mYzU0K6fGZOR1/4zDAMpajZs2fjrbfewhdffIFnn30WmzZtwrRp0+DxeBLdtISqr68HAOTl5YWV5+XlhepSXX19PXJzcyPKc3NzO3yNfe0z09zcjEAg0KV/6/r6+qjH+/1+NDc391pb4607743JZMJLL72ExYsX4/3338fgwYMxffp0rF69Oh5NTlrp8pnpjr70meGu9b3k0UcfxWOPPdbhMZs2bcK4ceO69fxXX3116L9HjBiBcePGobS0FEuXLsXll1/ereeMl95+bwBAJBKF/SwIQkRZsuns+wJEvj7g1K8xlT8zHenqv3W046OV9wVdeW8GDx6MwYMHh36eOHEiampq8Mwzz+C8887r1XYmu3T6zHRFX/rMMAz1kjvvvBPXXHNNh8eUlZX12PVMJhNKS0tRWVnZY8/ZW3rzvcnPzwfQ/tecyWQKlTc2Nkb8dZdsOvu+7NixAw0NDRF1TU1NXXqNqfSZiSY7OxsSiSSip6Ojf+v8/Pyox0ulUmRlZfVaW+OtO+9NNBMmTMCbb77Z081LKenymekpqfqZYRjqJdnZ2cjOzo7b9VpaWlBTUxMWAJJVb7435eXlyM/Px4oVK1BRUQGgffzEqlWr8NRTT/XKNXtKZ9+XiRMnwmKxYOPGjRg/fjwA4Ouvv4bFYsGkSZM6fb1U+sxEI5fLMXbsWKxYsQKXXXZZqHzFihW45JJLop4zceJEfPzxx2Fly5cvx7hx4yCTyXq1vfHUnfcmmq1bt6bs56OnpMtnpqek7GcmkaO3qd3Ro0eFrVu3Co899pig1WqFrVu3Clu3bhVsNlvomMGDBwvvv/++IAiCYLPZhPvuu09Yt26dUFVVJXz55ZfCxIkThcLCQsFqtSbqZfSKrr43giAIf/jDHwSDwSC8//77ws6dO4Vrr71WMJlMfeq9mTVrljBq1Chh/fr1wvr164WRI0cKF110Udgx6fCZeeeddwSZTCa8/PLLwp49e4S7775b0Gg0wpEjRwRBEISHHnpImDdvXuj4w4cPC2q1WrjnnnuEPXv2CC+//LIgk8mE9957L1Evodd09b3505/+JCxZskQ4cOCAsGvXLuGhhx4SAAiLFy9O1EvoFTabLfR7BICwcOFCYevWrcLRo0cFQUjvz0xX35u+9JlhGEoC8+fPFwBEPL788svQMQCEV155RRAEQXA6ncKMGTOEnJwcQSaTCSUlJcL8+fOF6urqxLyAXtTV90YQ2qfX/+Y3vxHy8/MFhUIhnHfeecLOnTvj3/he1NLSIlx//fWCTqcTdDqdcP3110dMb02Xz8zf/vY3obS0VJDL5cIZZ5whrFq1KlQ3f/58YfLkyWHHr1y5UqioqBDkcrlQVlYmvPDCC3Fucfx05b156qmnhP79+wtKpVLIyMgQzjnnHGHp0qUJaHXvOjEd/PuP+fPnC4KQ3p+Zrr43fekzIxKEb0eCEREREaUhTq0nIiKitMYwRERERGmNYYiIiIjSGsMQERERpTWGISIiIkprDENERESU1hiGiIiIKK0xDBEREVFaYxgiIiKitMYwRERERGmNYYiIiIjSGsMQEaWVpqYm5Ofn44knngiVff3115DL5Vi+fHkCW0ZEicKNWoko7SxbtgyXXnop1q1bhyFDhqCiogIXXnghFi1alOimEVECMAwRUVr6yU9+gs8//xxnnnkmtm/fjk2bNkGpVCa6WUSUAAxDRJSWXC4XRowYgZqaGmzevBmjRo1KdJOIKEE4ZoiI0tLhw4dRW1uLYDCIo0ePJro5RJRA7BkiorTj9Xoxfvx4jBkzBkOGDMHChQuxc+dO5OXlJbppRJQADENElHZ+/vOf47333sP27duh1WoxdepU6HQ6/Pe//01004goAXibjIjSysqVK7Fo0SK88cYb0Ov1EIvFeOONN/DVV1/hhRdeSHTziCgB2DNEREREaY09Q0RERJTWGIaIiIgorTEMERERUVpjGCIiIqK0xjBEREREaY1hiIiIiNIawxARERGlNYYhIiIiSmsMQ0RERJTWGIaIiIgorTEMERERUVr7f9XC3gxn92s/AAAAAElFTkSuQmCC\n",
      "text/plain": [
       "<Figure size 640x480 with 1 Axes>"
      ]
     },
     "metadata": {},
     "output_type": "display_data"
    }
   ],
   "source": [
    "import seaborn as sns\n",
    "from sklearn.datasets import make_blobs\n",
    "import matplotlib.pyplot as plt\n",
    "from sklearn.preprocessing import StandardScaler\n",
    "centers = 5\n",
    "X_train, true_labels = make_blobs(n_samples=100, centers=centers, random_state=42)\n",
    "X_train = StandardScaler().fit_transform(X_train)\n",
    "sns.scatterplot(x=[X[0] for X in X_train],\n",
    "                y=[X[1] for X in X_train],\n",
    "                hue=true_labels,\n",
    "                palette=\"deep\",\n",
    "                legend=None\n",
    "                )\n",
    "plt.xlabel(\"x\")\n",
    "plt.ylabel(\"y\")\n",
    "plt.show()"
   ]
  },
  {
   "cell_type": "code",
   "execution_count": 89,
   "id": "2cedcb08-e119-47f5-b0b9-36434ad4e74f",
   "metadata": {},
   "outputs": [],
   "source": [
    "class KMeans:\n",
    "    def __init__(self, n_clusters=8, max_iter=300):\n",
    "        self.n_clusters = n_clusters\n",
    "        self.max_iter = max_iter"
   ]
  },
  {
   "cell_type": "code",
   "execution_count": 97,
   "id": "8dd56bc2-a6dc-477b-9745-412c990d6285",
   "metadata": {},
   "outputs": [
    {
     "data": {
      "text/html": [
       "<div>\n",
       "<style scoped>\n",
       "    .dataframe tbody tr th:only-of-type {\n",
       "        vertical-align: middle;\n",
       "    }\n",
       "\n",
       "    .dataframe tbody tr th {\n",
       "        vertical-align: top;\n",
       "    }\n",
       "\n",
       "    .dataframe thead th {\n",
       "        text-align: right;\n",
       "    }\n",
       "</style>\n",
       "<table border=\"1\" class=\"dataframe\">\n",
       "  <thead>\n",
       "    <tr style=\"text-align: right;\">\n",
       "      <th></th>\n",
       "      <th>sepal length (cm)</th>\n",
       "      <th>sepal width (cm)</th>\n",
       "      <th>petal length (cm)</th>\n",
       "      <th>petal width (cm)</th>\n",
       "    </tr>\n",
       "  </thead>\n",
       "  <tbody>\n",
       "    <tr>\n",
       "      <th>0</th>\n",
       "      <td>5.1</td>\n",
       "      <td>3.5</td>\n",
       "      <td>1.4</td>\n",
       "      <td>0.2</td>\n",
       "    </tr>\n",
       "    <tr>\n",
       "      <th>1</th>\n",
       "      <td>4.9</td>\n",
       "      <td>3.0</td>\n",
       "      <td>1.4</td>\n",
       "      <td>0.2</td>\n",
       "    </tr>\n",
       "    <tr>\n",
       "      <th>2</th>\n",
       "      <td>4.7</td>\n",
       "      <td>3.2</td>\n",
       "      <td>1.3</td>\n",
       "      <td>0.2</td>\n",
       "    </tr>\n",
       "    <tr>\n",
       "      <th>3</th>\n",
       "      <td>4.6</td>\n",
       "      <td>3.1</td>\n",
       "      <td>1.5</td>\n",
       "      <td>0.2</td>\n",
       "    </tr>\n",
       "    <tr>\n",
       "      <th>4</th>\n",
       "      <td>5.0</td>\n",
       "      <td>3.6</td>\n",
       "      <td>1.4</td>\n",
       "      <td>0.2</td>\n",
       "    </tr>\n",
       "    <tr>\n",
       "      <th>...</th>\n",
       "      <td>...</td>\n",
       "      <td>...</td>\n",
       "      <td>...</td>\n",
       "      <td>...</td>\n",
       "    </tr>\n",
       "    <tr>\n",
       "      <th>145</th>\n",
       "      <td>6.7</td>\n",
       "      <td>3.0</td>\n",
       "      <td>5.2</td>\n",
       "      <td>2.3</td>\n",
       "    </tr>\n",
       "    <tr>\n",
       "      <th>146</th>\n",
       "      <td>6.3</td>\n",
       "      <td>2.5</td>\n",
       "      <td>5.0</td>\n",
       "      <td>1.9</td>\n",
       "    </tr>\n",
       "    <tr>\n",
       "      <th>147</th>\n",
       "      <td>6.5</td>\n",
       "      <td>3.0</td>\n",
       "      <td>5.2</td>\n",
       "      <td>2.0</td>\n",
       "    </tr>\n",
       "    <tr>\n",
       "      <th>148</th>\n",
       "      <td>6.2</td>\n",
       "      <td>3.4</td>\n",
       "      <td>5.4</td>\n",
       "      <td>2.3</td>\n",
       "    </tr>\n",
       "    <tr>\n",
       "      <th>149</th>\n",
       "      <td>5.9</td>\n",
       "      <td>3.0</td>\n",
       "      <td>5.1</td>\n",
       "      <td>1.8</td>\n",
       "    </tr>\n",
       "  </tbody>\n",
       "</table>\n",
       "<p>150 rows × 4 columns</p>\n",
       "</div>"
      ],
      "text/plain": [
       "     sepal length (cm)  sepal width (cm)  petal length (cm)  petal width (cm)\n",
       "0                  5.1               3.5                1.4               0.2\n",
       "1                  4.9               3.0                1.4               0.2\n",
       "2                  4.7               3.2                1.3               0.2\n",
       "3                  4.6               3.1                1.5               0.2\n",
       "4                  5.0               3.6                1.4               0.2\n",
       "..                 ...               ...                ...               ...\n",
       "145                6.7               3.0                5.2               2.3\n",
       "146                6.3               2.5                5.0               1.9\n",
       "147                6.5               3.0                5.2               2.0\n",
       "148                6.2               3.4                5.4               2.3\n",
       "149                5.9               3.0                5.1               1.8\n",
       "\n",
       "[150 rows x 4 columns]"
      ]
     },
     "execution_count": 97,
     "metadata": {},
     "output_type": "execute_result"
    }
   ],
   "source": [
    "from sklearn.datasets import load_iris\n",
    "df = load_iris(as_frame=True).data\n",
    "df"
   ]
  },
  {
   "cell_type": "code",
   "execution_count": 100,
   "id": "6b86e1d2-a13e-47b7-ba58-2fdae9bd8c45",
   "metadata": {},
   "outputs": [
    {
     "name": "stdout",
     "output_type": "stream",
     "text": [
      "[1 5 5 5 1 1 5 1 5 5 1 5 5 5 1 1 1 1 1 1 1 1 5 1 5 5 1 1 1 5 5 1 1 1 5 5 1\n",
      " 1 5 1 1 5 5 1 1 5 1 5 1 5 6 6 6 0 6 6 6 0 6 0 0 6 0 6 0 6 6 0 6 0 3 6 3 6\n",
      " 6 6 6 6 6 0 0 0 0 3 0 6 6 6 0 0 0 6 0 0 0 0 0 6 0 0 4 3 2 4 4 2 0 2 4 2 4\n",
      " 3 4 3 3 4 4 2 2 3 4 3 2 3 4 2 3 3 4 2 2 2 4 3 3 2 4 4 3 4 4 4 3 4 4 4 3 4\n",
      " 4 3]\n"
     ]
    }
   ],
   "source": [
    "from sklearn.cluster import KMeans\n",
    " \n",
    "kmeans = KMeans(n_clusters = 7)\n",
    " \n",
    "label = kmeans.fit_predict(df)\n",
    " \n",
    "print(label)"
   ]
  },
  {
   "cell_type": "code",
   "execution_count": 101,
   "id": "a9d967e3-5144-49b4-ae08-50cd04975c8e",
   "metadata": {},
   "outputs": [],
   "source": [
    "label_0 = df[label == 0]\n",
    "label_1 = df[label == 1]\n",
    "label_2 = df[label == 2]"
   ]
  },
  {
   "cell_type": "code",
   "execution_count": null,
   "id": "23036fb2-02fd-49df-a5c2-158af2e4e82d",
   "metadata": {},
   "outputs": [],
   "source": []
  }
 ],
 "metadata": {
  "kernelspec": {
   "display_name": "Python 3 (ipykernel)",
   "language": "python",
   "name": "python3"
  },
  "language_info": {
   "codemirror_mode": {
    "name": "ipython",
    "version": 3
   },
   "file_extension": ".py",
   "mimetype": "text/x-python",
   "name": "python",
   "nbconvert_exporter": "python",
   "pygments_lexer": "ipython3",
   "version": "3.9.15"
  }
 },
 "nbformat": 4,
 "nbformat_minor": 5
}
